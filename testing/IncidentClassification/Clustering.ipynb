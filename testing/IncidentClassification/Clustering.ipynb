{
 "cells": [
  {
   "cell_type": "code",
   "execution_count": 1,
   "id": "940f65f5-da90-4557-b12e-79cd0f6d7c36",
   "metadata": {},
   "outputs": [],
   "source": [
    "from modules.elastic import ArticleSearchQuery\n",
    "from modules.objects import FullArticle\n",
    "from modules.config import BaseConfig\n",
    "\n",
    "import logging\n",
    "from dotenv import load_dotenv\n",
    "\n",
    "logger = logging.getLogger(\"osinter\")\n",
    "load_dotenv()\n",
    "\n",
    "config_options = BaseConfig()"
   ]
  },
  {
   "cell_type": "code",
   "execution_count": 2,
   "id": "ebba0996-1028-46f6-99af-770ef85f0488",
   "metadata": {},
   "outputs": [],
   "source": [
    "from typing import cast\n",
    "import numpy as np\n",
    "from nptyping import Float64, Int64, NDArray, Float32, Shape\n",
    "import json\n",
    "\n",
    "from sklearn.feature_extraction.text import TfidfVectorizer\n",
    "from scipy.spatial import distance\n",
    "\n",
    "from sentence_transformers import SentenceTransformer\n",
    "from umap import UMAP\n",
    "from hdbscan import HDBSCAN\n",
    "from sklearn.feature_extraction.text import CountVectorizer, TfidfVectorizer\n",
    "\n",
    "from pydantic import BaseModel"
   ]
  },
  {
   "cell_type": "code",
   "execution_count": 3,
   "id": "57e108d1-5726-4f10-aebb-eb0fdd62cd5b",
   "metadata": {},
   "outputs": [
    {
     "name": "stdout",
     "output_type": "stream",
     "text": [
      "osinter_articles_elser_test2\n",
      "37181\n"
     ]
    }
   ],
   "source": [
    "print(config_options.ELASTICSEARCH_ARTICLE_INDEX)\n",
    "articles = config_options.es_article_client.query_all_documents()\n",
    "incidents = [article for article in articles if article.ml.classification.incident]\n",
    "print(len(articles))"
   ]
  },
  {
   "cell_type": "code",
   "execution_count": null,
   "id": "28be14f0-fb88-4dc9-8c7d-3b3980a19fd9",
   "metadata": {},
   "outputs": [],
   "source": []
  },
  {
   "cell_type": "code",
   "execution_count": 4,
   "id": "d4e9c6f3-a917-43bc-b873-e0b579b0ccf6",
   "metadata": {},
   "outputs": [
    {
     "data": {
      "application/vnd.jupyter.widget-view+json": {
       "model_id": "6d3e508d21e64c1cbca88a487e3d518a",
       "version_major": 2,
       "version_minor": 0
      },
      "text/plain": [
       "modules.json:   0%|          | 0.00/349 [00:00<?, ?B/s]"
      ]
     },
     "metadata": {},
     "output_type": "display_data"
    },
    {
     "data": {
      "application/vnd.jupyter.widget-view+json": {
       "model_id": "b29a3dbab5cc401eb49428a072332daa",
       "version_major": 2,
       "version_minor": 0
      },
      "text/plain": [
       "config_sentence_transformers.json:   0%|          | 0.00/116 [00:00<?, ?B/s]"
      ]
     },
     "metadata": {},
     "output_type": "display_data"
    },
    {
     "data": {
      "application/vnd.jupyter.widget-view+json": {
       "model_id": "230ee4f444a7480396eca293efef787b",
       "version_major": 2,
       "version_minor": 0
      },
      "text/plain": [
       "README.md:   0%|          | 0.00/10.7k [00:00<?, ?B/s]"
      ]
     },
     "metadata": {},
     "output_type": "display_data"
    },
    {
     "data": {
      "application/vnd.jupyter.widget-view+json": {
       "model_id": "cdb79e8e1c854dc4ab96fc43f22e5e12",
       "version_major": 2,
       "version_minor": 0
      },
      "text/plain": [
       "sentence_bert_config.json:   0%|          | 0.00/53.0 [00:00<?, ?B/s]"
      ]
     },
     "metadata": {},
     "output_type": "display_data"
    },
    {
     "data": {
      "application/vnd.jupyter.widget-view+json": {
       "model_id": "c5effe69fbfe4dd1b9b1178f3e9e29c7",
       "version_major": 2,
       "version_minor": 0
      },
      "text/plain": [
       "config.json:   0%|          | 0.00/612 [00:00<?, ?B/s]"
      ]
     },
     "metadata": {},
     "output_type": "display_data"
    },
    {
     "data": {
      "application/vnd.jupyter.widget-view+json": {
       "model_id": "3f621da6e0864896a4a0aa50bc350cbc",
       "version_major": 2,
       "version_minor": 0
      },
      "text/plain": [
       "pytorch_model.bin:   0%|          | 0.00/90.9M [00:00<?, ?B/s]"
      ]
     },
     "metadata": {},
     "output_type": "display_data"
    },
    {
     "data": {
      "application/vnd.jupyter.widget-view+json": {
       "model_id": "3cb9d0da413948efadf22be43eed4739",
       "version_major": 2,
       "version_minor": 0
      },
      "text/plain": [
       "tokenizer_config.json:   0%|          | 0.00/350 [00:00<?, ?B/s]"
      ]
     },
     "metadata": {},
     "output_type": "display_data"
    },
    {
     "data": {
      "application/vnd.jupyter.widget-view+json": {
       "model_id": "9e9174bc819841adac5dda6861a3fdaf",
       "version_major": 2,
       "version_minor": 0
      },
      "text/plain": [
       "vocab.txt:   0%|          | 0.00/232k [00:00<?, ?B/s]"
      ]
     },
     "metadata": {},
     "output_type": "display_data"
    },
    {
     "data": {
      "application/vnd.jupyter.widget-view+json": {
       "model_id": "b637416493eb4b52adba2c9e37789496",
       "version_major": 2,
       "version_minor": 0
      },
      "text/plain": [
       "tokenizer.json:   0%|          | 0.00/466k [00:00<?, ?B/s]"
      ]
     },
     "metadata": {},
     "output_type": "display_data"
    },
    {
     "data": {
      "application/vnd.jupyter.widget-view+json": {
       "model_id": "a811f765a4e34d0295ed9fde841d078c",
       "version_major": 2,
       "version_minor": 0
      },
      "text/plain": [
       "special_tokens_map.json:   0%|          | 0.00/112 [00:00<?, ?B/s]"
      ]
     },
     "metadata": {},
     "output_type": "display_data"
    },
    {
     "data": {
      "application/vnd.jupyter.widget-view+json": {
       "model_id": "ee2abd81861d421a8e1e55ea39121c60",
       "version_major": 2,
       "version_minor": 0
      },
      "text/plain": [
       "1_Pooling/config.json:   0%|          | 0.00/190 [00:00<?, ?B/s]"
      ]
     },
     "metadata": {},
     "output_type": "display_data"
    },
    {
     "data": {
      "application/vnd.jupyter.widget-view+json": {
       "model_id": "29d5344683b54a7cb116bae5839ef473",
       "version_major": 2,
       "version_minor": 0
      },
      "text/plain": [
       "Batches:   0%|          | 0/298 [00:00<?, ?it/s]"
      ]
     },
     "metadata": {},
     "output_type": "display_data"
    }
   ],
   "source": [
    "embedding_model = SentenceTransformer(\"all-MiniLM-L6-v2\")\n",
    "embeddings = embedding_model.encode([article.content for article in incidents], show_progress_bar=True, convert_to_numpy=True)"
   ]
  },
  {
   "cell_type": "code",
   "execution_count": 5,
   "id": "f6f06f2a-ce2b-4d4d-91aa-c77a0465468d",
   "metadata": {},
   "outputs": [],
   "source": [
    "tfidf_vectorizer = TfidfVectorizer(min_df=5, stop_words='english')\n",
    "tfidf_embeddings = tfidf_vectorizer.fit_transform([article.content for article in incidents])"
   ]
  },
  {
   "cell_type": "code",
   "execution_count": 6,
   "id": "8a99d5f7-0064-4aca-a782-4c0ff731eabc",
   "metadata": {},
   "outputs": [],
   "source": [
    "cluster_embeddings = UMAP(min_dist=0, n_neighbors=7, n_components=20, metric=\"cosine\").fit_transform(embeddings)"
   ]
  },
  {
   "cell_type": "code",
   "execution_count": 16,
   "id": "89d16a32-2d3f-4258-af9e-b6f8667326cb",
   "metadata": {},
   "outputs": [],
   "source": [
    "reduced_embeddings = UMAP(min_dist=0, n_neighbors=7, n_components=2, metric=\"cosine\").fit_transform(tfidf_embeddings)"
   ]
  },
  {
   "cell_type": "code",
   "execution_count": 9,
   "id": "90e80e2b-dc57-4d81-9998-38eb5afbc4d7",
   "metadata": {},
   "outputs": [
    {
     "data": {
      "text/plain": [
       "271"
      ]
     },
     "execution_count": 9,
     "metadata": {},
     "output_type": "execute_result"
    }
   ],
   "source": [
    "labels = HDBSCAN(\n",
    "    min_cluster_size=5,\n",
    "    min_samples=5,\n",
    "    cluster_selection_epsilon=0.2,\n",
    "    metric=\"euclidean\",\n",
    "    cluster_selection_method=\"eom\",\n",
    "    prediction_data=True,\n",
    ").fit_predict(cluster_embeddings)\n",
    "max(labels)"
   ]
  },
  {
   "cell_type": "code",
   "execution_count": 17,
   "id": "939f2ed6-c475-4877-acab-b5b2ac8efe09",
   "metadata": {},
   "outputs": [
    {
     "name": "stderr",
     "output_type": "stream",
     "text": [
      "/home/bertmad/Programmering/osinter/ml/venv/lib/python3.11/site-packages/pydantic/main.py:314: UserWarning: Pydantic serializer warnings:\n",
      "  Expected `str` but got `int` - serialized value may not be as expected\n",
      "  return self.__pydantic_serializer__.to_python(\n"
     ]
    }
   ],
   "source": [
    "for i, article in enumerate(incidents):\n",
    "    article.ml.coordinates = (float(reduced_embeddings[i][0]), float(reduced_embeddings[i][1]))\n",
    "    article.ml.cluster = int(labels[i])\n",
    "    \n",
    "with open(\"../articles.json\", \"w\") as f:\n",
    "    json.dump([article.model_dump(mode=\"json\") for article in incidents], f)"
   ]
  },
  {
   "cell_type": "code",
   "execution_count": null,
   "id": "49079332-41a6-429f-b1e3-88baa4a63cb8",
   "metadata": {},
   "outputs": [],
   "source": []
  }
 ],
 "metadata": {
  "kernelspec": {
   "display_name": "ml-venv",
   "language": "python",
   "name": "ml-venv"
  },
  "language_info": {
   "codemirror_mode": {
    "name": "ipython",
    "version": 3
   },
   "file_extension": ".py",
   "mimetype": "text/x-python",
   "name": "python",
   "nbconvert_exporter": "python",
   "pygments_lexer": "ipython3",
   "version": "3.11.6"
  }
 },
 "nbformat": 4,
 "nbformat_minor": 5
}
