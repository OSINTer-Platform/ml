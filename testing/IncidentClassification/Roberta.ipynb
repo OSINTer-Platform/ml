{
 "cells": [
  {
   "cell_type": "code",
   "execution_count": null,
   "id": "15353d56-752a-49dc-a555-d99caddfe9cc",
   "metadata": {},
   "outputs": [],
   "source": [
    "!pip install pandas datasets transformers[torch] scikit-learn tqdm\n",
    "!pip install torch torchvision torchaudio --index-url https://download.pytorch.org/whl/cu118\n",
    "!pip install accelerate -U"
   ]
  },
  {
   "cell_type": "code",
   "execution_count": null,
   "id": "43f9b853-e278-4cc8-ac6c-3e2c47a1538b",
   "metadata": {},
   "outputs": [],
   "source": [
    "import pandas as pd\n",
    "from datasets import load_dataset, Dataset\n",
    "from transformers import RobertaTokenizerFast, RobertaForSequenceClassification,Trainer, TrainingArguments\n",
    "import torch.nn as nn\n",
    "import torch\n",
    "import numpy as np\n",
    "from sklearn.metrics import accuracy_score, precision_recall_fscore_support\n",
    "from tqdm import tqdm\n",
    "import os"
   ]
  },
  {
   "cell_type": "code",
   "execution_count": null,
   "id": "700da79c-d84a-4818-aaf0-91343b8668ff",
   "metadata": {},
   "outputs": [],
   "source": [
    "model = RobertaForSequenceClassification.from_pretrained('roberta-base')\n",
    "tokenizer = RobertaTokenizerFast.from_pretrained('roberta-base', max_length = 512)"
   ]
  },
  {
   "cell_type": "code",
   "execution_count": null,
   "id": "fbae23fd-a978-480b-9e93-1295338f1ece",
   "metadata": {},
   "outputs": [],
   "source": [
    "from modules.elastic import ArticleSearchQuery\n",
    "from modules.objects import FullArticle\n",
    "from modules.config import BaseConfig\n",
    "\n",
    "from dotenv import load_dotenv\n",
    "\n",
    "load_dotenv()\n",
    "\n",
    "config_options = BaseConfig()"
   ]
  },
  {
   "cell_type": "code",
   "execution_count": null,
   "id": "a53dcbc2-3706-4f4b-aacd-01bbca263623",
   "metadata": {},
   "outputs": [],
   "source": [
    "print(config_options.ELASTICSEARCH_ARTICLE_INDEX)\n",
    "articles = config_options.es_article_client.query_all_documents()\n",
    "print(len(articles))"
   ]
  },
  {
   "cell_type": "code",
   "execution_count": null,
   "id": "438d4dd0-3570-402a-88f4-bf5bf88715ca",
   "metadata": {},
   "outputs": [],
   "source": [
    "pre_classified_articles = [article for article in articles if article.ml.incident and article.summary]\n",
    "incident = [article for article in pre_classified_articles if article.ml.incident == 2]\n",
    "not_incident = [article for article in pre_classified_articles if article.ml.incident == 1]\n",
    "\n",
    "print(len(pre_classified_articles), len(incident), len(not_incident), {article.ml.incident for article in articles})"
   ]
  },
  {
   "cell_type": "code",
   "execution_count": null,
   "id": "c4f8d32e-20af-42d9-a005-8fb865ea2004",
   "metadata": {},
   "outputs": [],
   "source": [
    "# Used for uploading to the cloud\n",
    "\n",
    "#import json, gzip\n",
    "#with gzip.open(\"./classified.gz\", \"wt\", encoding=\"utf-8\") as f:\n",
    "#    json.dump([article.model_dump(mode=\"json\") for article in pre_classified_articles], f)\n",
    "\n",
    "# Used in the cloud for loading\n",
    "\n",
    "#import json, gzip\n",
    "#with gzip.open(\"classified.gz\", 'r') as f:\n",
    "#    pre_classified_articles = json.loads(f.read().decode('utf-8'))"
   ]
  },
  {
   "cell_type": "code",
   "execution_count": null,
   "id": "a4bb2805-ebad-4948-8d86-9a927a5075f8",
   "metadata": {},
   "outputs": [],
   "source": [
    "\n",
    "for article in pre_classified_articles:\n",
    "  article['ml']['incident'] = 0 if article['ml']['incident'] == 1 else 1\n",
    "\n",
    "incident = [article for article in pre_classified_articles if article['ml']['incident'] == 1]\n",
    "not_incident = [article for article in pre_classified_articles if article['ml']['incident'] == 0]\n",
    "\n",
    "train_size = 0.7\n",
    "\n",
    "training_source = incident[:int(train_size * len(incident))] + not_incident[:int(train_size * len(not_incident))]\n",
    "val_source = incident[int(train_size * len(incident)):] + not_incident[int(train_size * len(not_incident)):]\n",
    "\n",
    "print(len(articles), len(training_source), len(val_source))"
   ]
  },
  {
   "cell_type": "code",
   "execution_count": null,
   "id": "54102c7e-1144-4051-8bf9-230f232c3930",
   "metadata": {},
   "outputs": [],
   "source": [
    "def gen_data(articles):\n",
    "  for article in articles:\n",
    "    yield {\"text\" : article['summary'], \"label\": article[\"ml\"][\"incident\"]}\n",
    "\n",
    "train_data = Dataset.from_generator(lambda: gen_data(training_source))\n",
    "val_data = Dataset.from_generator(lambda: gen_data(val_source))"
   ]
  },
  {
   "cell_type": "code",
   "execution_count": null,
   "id": "37bdd046-6015-4a4b-ad44-3f28e643bff2",
   "metadata": {},
   "outputs": [],
   "source": [
    "# define a function that will tokenize the model, and will return the relevant inputs for the model\n",
    "def tokenization(batched_text):\n",
    "    return tokenizer(batched_text['text'], padding = True, truncation=True)\n",
    "\n",
    "\n",
    "train_data = train_data.map(tokenization, batched = True, batch_size = len(train_data))\n",
    "val_data = val_data.map(tokenization, batched = True, batch_size = len(val_data))\n",
    "\n",
    "train_data.set_format('torch', columns=['input_ids', 'attention_mask', 'label'])\n",
    "val_data.set_format('torch', columns=['input_ids', 'attention_mask', 'label'])"
   ]
  },
  {
   "cell_type": "code",
   "execution_count": null,
   "id": "ebeb1862-9693-44be-88d1-8c38637c56b2",
   "metadata": {},
   "outputs": [],
   "source": [
    "# define accuracy metrics\n",
    "saved_preds = []\n",
    "\n",
    "def compute_metrics(pred):\n",
    "    global saved_preds\n",
    "    print(pred)\n",
    "    saved_preds.append(pred)\n",
    "    labels = pred.label_ids\n",
    "    preds = pred.predictions.argmax(-1)\n",
    "    precision, recall, f1, _ = precision_recall_fscore_support(labels, preds, average='binary')\n",
    "    acc = accuracy_score(labels, preds)\n",
    "    return {\n",
    "        'accuracy': acc,\n",
    "        'f1': f1,\n",
    "        'precision': precision,\n",
    "        'recall': recall\n",
    "    }"
   ]
  },
  {
   "cell_type": "code",
   "execution_count": null,
   "id": "c7d281bb-b094-49d2-b436-36c62989de46",
   "metadata": {},
   "outputs": [],
   "source": [
    "training_args = TrainingArguments(\n",
    "    output_dir=\"./\",\n",
    "    num_train_epochs=2,\n",
    "    per_device_train_batch_size = 8,\n",
    "    gradient_accumulation_steps = 16,\n",
    "    per_device_eval_batch_size= 8,\n",
    "    evaluation_strategy = \"epoch\",\n",
    "    save_strategy=\"epoch\",\n",
    "    disable_tqdm = False,\n",
    "    load_best_model_at_end=True,\n",
    "    warmup_steps=5,\n",
    "    weight_decay=0.01,\n",
    "    logging_steps = 8,\n",
    "    dataloader_num_workers = 2,\n",
    "    run_name = 'roberta-classification'\n",
    ")\n",
    "\n",
    "trainer = Trainer(\n",
    "    model=model,\n",
    "    args=training_args,\n",
    "    compute_metrics=compute_metrics,\n",
    "    train_dataset=train_data,\n",
    "    eval_dataset=val_data\n",
    ")"
   ]
  },
  {
   "cell_type": "code",
   "execution_count": null,
   "id": "7ee10d0b-6f5d-47dc-8457-b89e13e9ccbc",
   "metadata": {},
   "outputs": [],
   "source": [
    "trainer.train()"
   ]
  },
  {
   "cell_type": "code",
   "execution_count": null,
   "id": "0fa43c43-b37a-4606-9a58-69db779197ba",
   "metadata": {},
   "outputs": [],
   "source": [
    "trainer.evaluate()"
   ]
  }
 ],
 "metadata": {
  "kernelspec": {
   "display_name": "ml-venv",
   "language": "python",
   "name": "ml-venv"
  },
  "language_info": {
   "codemirror_mode": {
    "name": "ipython",
    "version": 3
   },
   "file_extension": ".py",
   "mimetype": "text/x-python",
   "name": "python",
   "nbconvert_exporter": "python",
   "pygments_lexer": "ipython3",
   "version": "3.11.6"
  }
 },
 "nbformat": 4,
 "nbformat_minor": 5
}
