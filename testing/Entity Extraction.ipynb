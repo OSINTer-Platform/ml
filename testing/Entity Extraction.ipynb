{
 "cells": [
  {
   "cell_type": "code",
   "execution_count": 1,
   "id": "1ad52795-a1c9-4c85-866e-ad96334c9f9d",
   "metadata": {},
   "outputs": [],
   "source": [
    "from modules.elastic import ArticleSearchQuery\n",
    "from modules.objects import FullArticle\n",
    "from modules.config import BaseConfig\n",
    "\n",
    "from dotenv import load_dotenv\n",
    "\n",
    "load_dotenv()\n",
    "\n",
    "config_options = BaseConfig()"
   ]
  },
  {
   "cell_type": "code",
   "execution_count": 2,
   "id": "62bb1f92-fe2f-417b-b9a8-16c7089e5230",
   "metadata": {},
   "outputs": [],
   "source": [
    "from span_marker import SpanMarkerModel\n",
    "\n",
    "# Download from the 🤗 Hub\n",
    "model = SpanMarkerModel.from_pretrained(\"tomaarsen/span-marker-roberta-large-ontonotes5\")"
   ]
  },
  {
   "cell_type": "code",
   "execution_count": 3,
   "id": "4502ae49-d218-47c9-a8f1-00eefcb57fbc",
   "metadata": {},
   "outputs": [],
   "source": [
    "articles = [config_options.es_article_client.query_documents(ArticleSearchQuery(limit=10), True)[0][0]]"
   ]
  },
  {
   "cell_type": "code",
   "execution_count": null,
   "id": "4201b299-e277-4ecd-83c1-16614049f80d",
   "metadata": {},
   "outputs": [],
   "source": [
    "entities = []\n",
    "\n",
    "for article in articles:\n",
    "    current_entities = []\n",
    "    for entity_collection in [model.predict(sentence) for sentence in article.content.split(\". \")]:\n",
    "        current_entities.extend(entity_collection)\n",
    "    entities.append(current_entities)"
   ]
  },
  {
   "cell_type": "code",
   "execution_count": 4,
   "id": "83f1b3bf-de68-4d11-9444-236fd5bd6021",
   "metadata": {},
   "outputs": [
    {
     "name": "stdout",
     "output_type": "stream",
     "text": [
      "2\n"
     ]
    },
    {
     "name": "stderr",
     "output_type": "stream",
     "text": [
      "[nltk_data] Downloading package punkt to /home/bertmad/nltk_data...\n",
      "[nltk_data]   Package punkt is already up-to-date!\n"
     ]
    }
   ],
   "source": [
    "from datasets import load_dataset, Dataset\n",
    "from nltk.tokenize import sent_tokenize\n",
    "import nltk\n",
    "\n",
    "nltk.download('punkt')\n",
    "\n",
    "documents = [sent_tokenize(article.content) for article in articles]\n",
    "\n",
    "data_dict = {\n",
    "    \"tokens\": [],\n",
    "    \"document_id\": [],\n",
    "    \"sentence_id\": [],\n",
    "}\n",
    "for document_id, document in enumerate(documents):\n",
    "    for sentence_id, sentence in enumerate(document):\n",
    "        data_dict[\"document_id\"].append(document_id)\n",
    "        data_dict[\"sentence_id\"].append(sentence_id)\n",
    "        data_dict[\"tokens\"].append(sentence)\n",
    "dataset = Dataset.from_dict(data_dict)\n",
    "dataset.to_pandas()\n",
    "\n",
    "for document in documents:\n",
    "    print(min([len(sen) for sen in document]))"
   ]
  },
  {
   "cell_type": "code",
   "execution_count": 5,
   "id": "64e0459e-dc59-4133-8fdf-6fe1285fb927",
   "metadata": {},
   "outputs": [],
   "source": [
    "model = SpanMarkerModel.from_pretrained(\"tomaarsen/span-marker-xlm-roberta-large-conll03-doc-context\")\n",
    "entities = model.predict(dataset)"
   ]
  },
  {
   "cell_type": "code",
   "execution_count": 6,
   "id": "16c0a07c-ada2-4767-a2eb-4c5ae6eacd62",
   "metadata": {},
   "outputs": [
    {
     "data": {
      "text/plain": [
       "[FullArticle(id='d8adcf515ca2f2f1106e9f276b0158b8', title='Putting the 10 Most Critical AppSec Risks that threaten Your Business', description='Every business is under the threat of a data breach. Identity Theft Resource Centre (ITRC) has published a\\xa0report\\xa0which shows 17% increase in data breaches as of September 2021.', url=Url('https://cybersecuritynews.com/?p=8529'), image_url=Url('https://blogger.googleusercontent.com/img/a/AVvXsEiJUKVvQ5nVuCqdYxOIexGOA2QhZdSxv4h3Q9j3ZjMpA8jSFLyyntnSxJcrzo7wj22LG_Fkl0BVga-UXDYvHjphGveo2UcmxQ2naVhGAnsOUMHBstTqs952kzvbEObv-TqbWm08bbbDN41jGFeTFzT8VO5UZFTMjiLIRswm7SAX6ld6CF7TfU7iUXjSpQ=s16000'), profile='cybersecuritynews', source='Cyber Security News', author='Guru', publish_date=datetime.datetime(2022, 1, 28, 17, 14, 17, tzinfo=TzInfo(UTC)), inserted_at=datetime.datetime(2022, 2, 7, 20, 51, 34, tzinfo=TzInfo(UTC)), read_times=0, similar=['d9571274b7cf9e10c971c422d45a5313', '1f24985c7240f04aba448b1c6232c0a6', '97b2d82e677728bcf119fc2f92557951', '4dd51f3b3a5bd777ac54b3cd047452e4', 'a0b8e4666bbc3b0e6e8dca1721a0dacf', '0bb35e42603cc4558bc668a41bab045f', 'f27996b1d661660576c4812e216b2119', 'd47b1945e31b97c56a68ba710ee617fe', 'a7d1187df2a76585bb67d5b0c5150192', '5fc7586fdd6e0aad66eafbbe44f8c62e', '25a2291786066373d0069b7e2d1bfaa3', '77bce542ca61fd71d167e611ede83aac', '69dd278b1e0f5feebcf6f58bfd15e416', '64acf2139d660178ff124082b9c65191', '4d798701ee08cfee966ac36619ec9a4f', 'a6ff5024ec96f7dd74acc2d11348974a', 'b4a7138f3cf91719f6d35bc975fe68e2', '9dc4d6a985cc8d7560d66b0baf9a10f2', 'da77d7b2440ede65f9a437470fabcb04', '28898851ed6ad525ca83cbab35266ca1'], ml=MLAttributes(cluster='', coordinates=(0.0, 0.0), labels=[]), tags=Tags(automatic=['Failures•', 'Cloud', 'Open-source', 'Server-side'], interesting=[]), summary=\"The Identity Theft Resource Centre (ITRC) has reported a 17% increase in data breaches in 2021. The manufacturing and utility sector had the highest number of victims at 48 million. Additionally, a study found that nearly 100 million Android users' data was leaked due to misconfigurations. This highlights the significant problem of application security for businesses. The article lists the top 10 critical application security risks, including broken access control, cryptographic failures, injection vulnerabilities, insecure design, security misconfiguration, vulnerable and outdated components, identification and authentication failures, software and integrity failures, insufficient logging and monitoring, and server-side request forgery (SSRF). It also provides tips for preventing each type of risk. Businesses should invest in better security technologies and procedures to protect their data and systems.\", formatted_content='Every business is under the threat of a data breach. Identity Theft Resource Centre (ITRC) has published a\\xa0[report](https://www.idtheftcenter.org/wp-content/uploads/2021/10/03.25.2020_2020-Annual-Report_FINAL-optimized.pdf)\\xa0which shows 17% increase in data breaches as of September 2021. Every sector has its own set of threats. As per records, the manufacturing & utility sector had 48 million victims in 2021, which was the highest. Another study showed that nearly 100 million Android users’ data were leaked due to several misconfigurations.\\n\\nThis shows that [**application security**](https://www.indusface.com/web-application-security.php?utm_source=Cybersecuritynews-article&utm_medium=Referral&utm_campaign=Cybersecuritynews-article-10-most-critical-appsec-risks) has become a significant problem for businesses.\\xa0This article provides you with the Top 10 most critical application security risks you need to concentrate on to avoid data breaches.\\xa0\\n\\n#### **1.**\\xa0 \\xa0\\xa0**Broken Access Control**\\n\\nRecent research revealed that, in 2021, nearly 94% of the applications were vulnerable to Broken Access Control. Access Control is enforced in every organization to prevent unauthorized access to sensitive information. However, when the policies are misconfigured, it might lead to many security issues. The most common access control vulnerabilities are\\n\\n• Privilege Escalation\\n\\n• Parameter Tampering\\n\\n• Insecure Direct Object Reference (IDOR)\\n\\n• CORS Misconfiguration\\n\\n**Tips to Prevent Broken Access Control**\\n\\n• Minimize Cross-Origin Resource Sharing\\n\\n• Make sure the backup files from the root directory are deleted\\n\\n• Disable Web Server Directory Listing\\n\\n• Rate Limit API requests\\n\\n• Enforce Stateful Session\\n\\n#### **2.**\\xa0 \\xa0\\xa0**Cryptographic Failures**\\n\\nCryptography has been in practice ever since cyber threats have emerged. However, still insecure data encryption exposes sensitive data like health records, personal information, credit card numbers, and other business secrets. Encryption and Decryption are based on the cryptographic keys used. If the keys are weak and vulnerable, data loss is inevitable. It is necessary to check whether the same key is used twice, weak keys are generated, or any keys are reused.\\xa0\\n\\nFor example, when an application does not use proper database encryption and decryption, a security breach might leak the entire database.\\n\\n**Tips to Prevent Cryptographic Failures**\\n\\n• Never store sensitive data unless it’s necessary\\n\\n• Ensure to encrypt all sensitive data\\n\\n• Disable the cache of sensitive data\\n\\n• Enforce mandatory usage of authenticated encryption\\n\\n• Enable cryptographic randomness\\n\\n#### **3.**\\xa0 \\xa0 \\xa0**Injection**\\n\\nInjection vulnerabilities are one the most common ways which lead to serious data breaches. As of 2019, [**SQL injection**](https://www.indusface.com/blog/how-to-stop-sql-injection/?utm_source=Cybersecuritynews-article&utm_medium=Referral&utm_campaign=Cybersecuritynews-article-10-most-critical-appsec-risks) attacks were the highest among all the critical vulnerabilities. Nearly 94% of the applications were\\xa0[tested](https://owasp.org/Top10/A03_2021-Injection/)\\xa0for injection-based vulnerabilities in which nearly 19% of the applications were found to be vulnerable.\\n\\nAn injection vulnerability refers to the injection of unvalidated input into the server, which will execute malicious commands. Some of the common types of Injection vulnerabilities are\\n\\n• SQL injection\\n\\n• Command Injection\\n\\n• CRLF injection\\n\\n• LDAP injections\\n\\n**Tips to Prevent Injection attack**\\n\\n• Use safe APIs\\n\\n• Sanitize user-supplied inputs\\n\\n• Use LIMIT controls in SQL\\n\\n• Use\\xa0Character-escaping functions\\n\\n• Use best-in-class [**WAF**](https://www.indusface.com/web-application-firewall.php?utm_source=Cybersecuritynews-article&utm_medium=Referral&utm_campaign=Cybersecuritynews-article-10-most-critical-appsec-risks) \\n\\n• Use IDS and Positive Server-side validation\\n\\n#### **4.**\\xa0 \\xa0 \\xa0**Insecure Design**\\n\\nAs of 2021, architectural and design flaws have become a major problem for businesses. Lack of business risk profiling is the main factor for insecure design. Insecure design and insecure implementation are two diﬀerent things but are directly proportional. A secure design constantly evaluates all the codes and threats and protects from attack methods.\\n\\n**Tips to Prevent Insecure Design**\\n\\n• Regular plausibility checks\\n\\n• Make a Secure Software Development Lifecycle\\n\\n• Document every test-case\\n\\n• Note down all the misuse cases on every stage of the application\\n\\n#### **5.**\\xa0 \\xa0 \\xa0**Security Misconfiguration**\\n\\nHuman errors are the most prevalent form of error when it comes to cyber security. Nearly 90% of the servers were\\xa0[tested](https://owasp.org/Top10/A05_2021-Security_Misconfiguration/)\\xa0for security misconfiguration. A range of 280,000 servers was vulnerable due to poor security configuration. Significant human errors include:\\n\\n* Having default settings\\n\\t+ No limitation on accessing cloud storage\\n\\t+ HTTP header misconfiguration\\n\\t+ Error messages that led to sensitive data exposure\\n\\n**Tips to Prevent Security Misconfiguration**\\n\\n• Regularly monitor cloud resources, applications, and servers\\n\\n• Use segmented application architecture\\n\\n• Remove unused features and services\\n\\n#### **6.**\\xa0 \\xa0 \\xa0**Vulnerable and Outdated Components**\\n\\nBusinesses often depend on open-source libraries and frameworks for their application. Hence, any vulnerability in an open-source library creates a great security impact. Most of the data breaches reported were due to vulnerable and outdated components. This security issue arises due to:\\n\\n• Lack of knowledge in the components versions used\\n\\n• Out of date or vulnerable software in the application server\\n\\n• Not testing the capabilities of patched or upgraded libraries\\n\\n• Not using secure components\\n\\n**Tips to Prevent Vulnerable & Outdated Components**\\n\\n• Remove unnecessary features or files\\n\\n• Be up to date on the latest security vulnerabilities\\n\\n• Regularly scan all the vulnerable components\\n\\n• Frequently patch application vulnerabilities\\n\\n#### **7.**\\xa0 \\xa0\\xa0**Identification and Authentication Failures**\\n\\nAuthentication of a specific user is crucial for any application. Many cyberattacks attacks happen due to poor identification and authentication. Authentication related issues arise when an application:\\n\\n• Allows automated tasks like credential surfing\\n\\n• Doesn’t restrict automated tasks\\n\\n• Allow weak passwords\\n\\n• Has weakly hashed data stores\\n\\n• Shows Session Token in the URL\\n\\n• Doesn’t enforce MFA\\n\\n**Tips to Prevent Authentication Failures**\\n\\n• Enforce MFA and make it mandatory\\n\\n• Create Strong Password Policies\\n\\n• Enable time-limited sessions\\n\\n• Disable Session IDs in URL\\n\\n#### **8. Software and Integrity Failures**\\n\\nSoftware and integrity failure arises when the code and infrastructure fail to prevent integrity violations. For example, an integrity failure may arise when an application is built upon plugins, modules, or libraries from a source that is not genuine. Many applications are automatically updated without suﬃcient integrity verification. Cybercriminals can exploit these updates by uploading malicious payloads.\\n\\n**Tips to Prevent Software & Integrity Failures**\\n\\n• Ensure a review procedure for code and configuration modifications\\n\\n• Host an internal approved repository\\n\\n• Segregate and configure your CI/CD pipeline securely\\n\\n• Restrict unencrypted or unsigned data from untrustworthy clients\\n\\n#### \\xa0**9. Insuﬃcient Logging and Monitoring**\\n\\nProper logging and monitoring is the most important factor to consider when securing an application. Many of the data breaches were due to insuﬃcient monitoring of traﬃc. Without monitoring, breaches are hard to detect. Some of the common issues that can be detected through logging and monitoring involve:\\n\\n• Events of multiple login attempts\\n\\n• Unclear log messages\\n\\n• Locally stored logs\\n\\n• Real-time attacks that are not alerted\\n\\n**Tips to Prevent Insuﬃcient Logging & Monitoring**\\n\\n• Server-side inputs, access control, logins attempts must be logged\\n\\n• High-value transactions must be monitored\\n\\n• Use open-source application protection frameworks\\xa0\\n\\n• Eﬀective monitoring and quick response over suspicious activities\\n\\n#### **10. Server-Side Request Forgery (SSRF)**\\n\\n\\xa0Requesting an unauthorized resource by redirecting a request from a trusted application is called Server-Side Request Forgery (SSRF). Attackers use crafted requests to attack the application. Since cloud services are rising, fetching a remote resource through a request from an application has become inevitable. Hence, SSRF is also increasing.\\n\\n**Tips to Prevent Server-Side Request Forgery**\\n\\n• Enforce positive allow list\\n\\n• Prevent raw response from clients\\n\\n• HTTP redirections must be disabled\\n\\n• Use network encryption for independent systems\\n\\nApplication security attacks are becoming more common because they are easier to carry out and can be very profitable for attackers. Businesses need to invest in better security technologies and procedures to keep their data and systems safe.\\n\\n[**Indusface**](https://www.indusface.com/?utm_source=Cybersecuritynews-article&utm_medium=Referral&utm_campaign=Cybersecuritynews-article-10-most-critical-appsec-risks) provides the best service for web application security, firewalls, SSL certificate, and many other services that can help to keep your business safe. It provides an affordable risk-based approach to application security, fully managed web application scanning, and firewall with no false positives.\\n\\n\\n', content='Every business is under the threat of a data breach. Identity Theft Resource Centre (ITRC) has published a report which shows 17% increase in data breaches as of September 2021. Every sector has its own set of threats. As per records, the manufacturing & utility sector had 48 million victims in 2021, which was the highest. Another study showed that nearly 100 million Android users’ data were leaked due to several misconfigurations.This shows that application security has become a significant problem for businesses. This article provides you with the Top 10 most critical application security risks you need to concentrate on to avoid data breaches. 1.    Broken Access ControlRecent research revealed that, in 2021, nearly 94% of the applications were vulnerable to Broken Access Control. Access Control is enforced in every organization to prevent unauthorized access to sensitive information. However, when the policies are misconfigured, it might lead to many security issues. The most common access control vulnerabilities are• Privilege Escalation• Parameter Tampering• Insecure Direct Object Reference (IDOR)• CORS MisconfigurationTips to Prevent Broken Access Control• Minimize Cross-Origin Resource Sharing• Make sure the backup files from the root directory are deleted• Disable Web Server Directory Listing• Rate Limit API requests• Enforce Stateful Session2.    Cryptographic Failures  Cryptography has been in practice ever since cyber threats have emerged. However, still insecure data encryption exposes sensitive data like health records, personal information, credit card numbers, and other business secrets. Encryption and Decryption are based on the cryptographic keys used. If the keys are weak and vulnerable, data loss is inevitable. It is necessary to check whether the same key is used twice, weak keys are generated, or any keys are reused. For example, when an application does not use proper database encryption and decryption, a security breach might leak the entire database.Tips to Prevent Cryptographic Failures• Never store sensitive data unless it’s necessary• Ensure to encrypt all sensitive data• Disable the cache of sensitive data• Enforce mandatory usage of authenticated encryption• Enable cryptographic randomness3.     Injection Injection vulnerabilities are one the most common ways which lead to serious data breaches. As of 2019, SQL injection attacks were the highest among all the critical vulnerabilities. Nearly 94% of the applications were tested for injection-based vulnerabilities in which nearly 19% of the applications were found to be vulnerable.An injection vulnerability refers to the injection of unvalidated input into the server, which will execute malicious commands. Some of the common types of Injection vulnerabilities are• SQL injection• Command Injection• CRLF injection• LDAP injectionsTips to Prevent Injection attack• Use safe APIs• Sanitize user-supplied inputs• Use LIMIT controls in SQL• Use Character-escaping functions• Use best-in-class WAF  • Use IDS and Positive Server-side validation4.     Insecure DesignAs of 2021, architectural and design flaws have become a major problem for businesses. Lack of business risk profiling is the main factor for insecure design. Insecure design and insecure implementation are two different things but are directly proportional. A secure design constantly evaluates all the codes and threats and protects from attack methods.Tips to Prevent Insecure Design• Regular plausibility checks• Make a Secure Software Development Lifecycle• Document every test-case• Note down all the misuse cases on every stage of the application5.     Security MisconfigurationHuman errors are the most prevalent form of error when it comes to cyber security. Nearly 90% of the servers were tested for security misconfiguration. A range of 280,000 servers was vulnerable due to poor security configuration. Significant human errors include:Having default settingsNo limitation on accessing cloud storageHTTP header misconfigurationError messages that led to sensitive data exposureTips to Prevent Security Misconfiguration• Regularly monitor cloud resources, applications, and servers• Use segmented application architecture• Remove unused features and services6.     Vulnerable and Outdated ComponentsBusinesses often depend on open-source libraries and frameworks for their application. Hence, any vulnerability in an open-source library creates a great security impact. Most of the data breaches reported were due to vulnerable and outdated components. This security issue arises due to:• Lack of knowledge in the components versions used• Out of date or vulnerable software in the application server• Not testing the capabilities of patched or upgraded libraries• Not using secure componentsTips to Prevent Vulnerable & Outdated Components• Remove unnecessary features or files• Be up to date on the latest security vulnerabilities• Regularly scan all the vulnerable components• Frequently patch application vulnerabilities7.    Identification and Authentication FailuresAuthentication of a specific user is crucial for any application. Many cyberattacks attacks happen due to poor identification and authentication. Authentication related issues arise when an application:• Allows automated tasks like credential surfing• Doesn’t restrict automated tasks• Allow weak passwords• Has weakly hashed data stores• Shows Session Token in the URL• Doesn’t enforce MFATips to Prevent Authentication Failures• Enforce MFA and make it mandatory• Create Strong Password Policies• Enable time-limited sessions• Disable Session IDs in URL8. Software and Integrity FailuresSoftware and integrity failure arises when the code and infrastructure fail to prevent integrity violations. For example, an integrity failure may arise when an application is built upon plugins, modules, or libraries from a source that is not genuine. Many applications are automatically updated without sufficient integrity verification. Cybercriminals can exploit these updates by uploading malicious payloads.Tips to Prevent Software & Integrity Failures• Ensure a review procedure for code and configuration modifications• Host an internal approved repository• Segregate and configure your CI/CD pipeline securely• Restrict unencrypted or unsigned data from untrustworthy clients 9. Insufficient Logging and MonitoringProper logging and monitoring is the most important factor to consider when securing an application. Many of the data breaches were due to insufficient monitoring of traffic. Without monitoring, breaches are hard to detect. Some of the common issues that can be detected through logging and monitoring involve:• Events of multiple login attempts• Unclear log messages• Locally stored logs• Real-time attacks that are not alertedTips to Prevent Insufficient Logging & Monitoring• Server-side inputs, access control, logins attempts must be logged• High-value transactions must be monitored• Use open-source application protection frameworks • Effective monitoring and quick response over suspicious activities10. Server-Side Request Forgery (SSRF) Requesting an unauthorized resource by redirecting a request from a trusted application is called Server-Side Request Forgery (SSRF). Attackers use crafted requests to attack the application. Since cloud services are rising, fetching a remote resource through a request from an application has become inevitable. Hence, SSRF is also increasing.Tips to Prevent Server-Side Request Forgery • Enforce positive allow list• Prevent raw response from clients• HTTP redirections must be disabled• Use network encryption for independent systemsApplication security attacks are becoming more common because they are easier to carry out and can be very profitable for attackers. Businesses need to invest in better security technologies and procedures to keep their data and systems safe.Indusface provides the best service for web application security, firewalls, SSL certificate, and many other services that can help to keep your business safe. It provides an affordable risk-based approach to application security, fully managed web application scanning, and firewall with no false positives. ')]"
      ]
     },
     "execution_count": 6,
     "metadata": {},
     "output_type": "execute_result"
    }
   ],
   "source": [
    "articles"
   ]
  },
  {
   "cell_type": "code",
   "execution_count": 71,
   "id": "8fdc7fb0-d4a4-4385-ad70-ab5a45e8c578",
   "metadata": {},
   "outputs": [
    {
     "name": "stdout",
     "output_type": "stream",
     "text": [
      " Microsoft: ORG | 0.997\n",
      "Windows: PRODUCT | 0.974\n",
      "Office: PRODUCT | 0.969\n",
      "Teams: PRODUCT | 0.967\n",
      "Azure Data Explorer: PRODUCT | 0.990\n",
      "Visual Studio Code: PRODUCT | 0.994\n",
      "Kernel: PRODUCT | 0.823\n",
      "Win32k: PRODUCT | 0.915\n",
      "Chromium: PRODUCT | 0.587\n",
      "Edge: PRODUCT | 0.993\n",
      "CVE-2022-21989: LAW | 0.632\n",
      "Windows Kernel: PRODUCT | 0.830\n",
      "Microsoft: ORG | 0.998\n",
      "Windows DNS Server: PRODUCT | 0.930\n",
      "SharePoint Server: PRODUCT | 0.963\n",
      "Windows Hyper-V: PRODUCT | 0.936\n",
      "HEVC Video Extensions: PRODUCT | 0.709\n",
      "Azure Data Explorer: PRODUCT | 0.950\n",
      "Outlook for Mac: PRODUCT | 0.966\n",
      "OneDrive for Android: PRODUCT | 0.835\n",
      ".NET: PRODUCT | 0.772\n",
      "Teams: PRODUCT | 0.888\n",
      "Microsoft: ORG | 0.998\n",
      "Print Spooler: PRODUCT | 0.775\n",
      "Win32k: PRODUCT | 0.922\n",
      "WinVerifyTrust: PRODUCT | 0.984\n",
      "Windows: PRODUCT | 0.946\n",
      "ZLoader: PRODUCT | 0.922\n",
      "Check Point Research: ORG | 0.996\n",
      "Microsoft: ORG | 0.998\n",
      "Oracle Linux: ORG | 0.537\n",
      "Red Hat: ORG | 0.993\n",
      "SUSE: ORG | 0.991\n",
      "Firefox ESR: PRODUCT | 0.609\n",
      "Siemens: ORG | 0.998\n",
      " Microsoft on Tuesday rolled out its monthly security updates with fixes for 51 vulnerabilities across its software line-up consisting of Windows, Office, Teams, Azure Data Explorer, Visual Studio Code, and other components such as Kernel and Win32k. Among the 51 defects closed, 50 are rated Important and one is rated Moderate in severity, making it one of the rare Patch Tuesday updates without any fixes for Critical-rated vulnerabilities. This is also in addition to 19 more flaws the company addressed in its Chromium-based Edge browser. None of the security vulnerabilities are listed as under active exploit, while of the flaws — CVE-2022-21989 (CVSS score: 7.8) — has been classified as a publicly disclosed zero-day at the time of the release. The issue concerns a privilege escalation bug in Windows Kernel, with Microsoft warning of potential attacks exploiting the shortcoming.  \"Successful exploitation of this vulnerability requires an attacker to take additional actions prior to exploitation to prepare the target environment,\" the company noted in its advisory. \"A successful attack could be performed from a low privilege AppContainer. The attacker could elevate their privileges and execute code or access resources at a higher integrity level than that of the AppContainer execution environment.\" Also resolved are a number of remote code execution vulnerabilities affecting Windows DNS Server (CVE-2022-21984, CVSS score: 8.8), SharePoint Server (CVE-2022-22005, CVSS score: 8.8), Windows Hyper-V (CVE-2022-21995, CVSS score: 5.3), and HEVC Video Extensions (CVE-2022-21844, CVE-2022-21926, and CVE-2022-21927, CVSS scores: 7.8). The security update also remediates a Azure Data Explorer spoofing vulnerability (CVE-2022-23256, CVSS score: 8.1), two security bypass vulnerabilities each impacting Outlook for Mac (CVE-2022-23280, CVSS score: 5.3) and OneDrive for Android (CVE-2022-23255, CVSS score: 5.9), and two denial-of-service vulnerabilities in .NET (CVE-2022-21986, CVSS score: 7.5) and Teams (CVE-2022-21965, CVSS score: 7.5). Microsoft also said it remediated multiple elevation of privilege flaws — four in the Print Spooler service and one in the Win32k driver (CVE-2022-21996, CVSS score: 7.8), the latter of which has been labeled \"Exploitation More Likely\" in light of a similar vulnerability in the same component that was patched last month (CVE-2022-21882) and has come since under active attack.  The updates arrive as the tech giant late last month republished a vulnerability dating back to 2013 — a signature validation issue affecting WinVerifyTrust (CVE-2013-3900) — noting that the fix is \"available as an opt-in feature via reg key setting, and is available on supported editions of Windows released since December 10, 2013.\" The move may have been spurred in response to an ongoing ZLoader malware campaign that, as uncovered by Check Point Research in early January, was found leveraging the flaw to bypass the file signature verification mechanism and drop malware capable of siphoning user credentials and other sensitive information. Software Patches from Other Vendors Besides Microsoft, security updates have also been released by other vendors to rectify several vulnerabilities, counting —  Adobe Android Cisco Citrix Google Chrome Intel Linux distributions Oracle Linux, Red Hat, and SUSE Mozilla Firefox and Firefox ESR SAP Schneider Electric, and Siemens       \n",
      "a19d66c10e6d6239dfce7cd41a974f09\n"
     ]
    }
   ],
   "source": [
    "index = 0\n",
    "article = articles[index]\n",
    "entity = entities[index]\n",
    "\n",
    "for r in current_entities:\n",
    "    if r['label'] in [\"DATE\", \"CARDINAL\"]:\n",
    "        continue\n",
    "        \n",
    "    print(f\"{r['span']}: {r['label']} | {str(r['score'])[0:5]}\")\n",
    "\n",
    "print(article.content)\n",
    "print(article.id)"
   ]
  },
  {
   "cell_type": "code",
   "execution_count": 65,
   "id": "8a1aff29-e2cc-42e5-97e0-f43192b17e07",
   "metadata": {},
   "outputs": [
    {
     "data": {
      "text/plain": [
       "[[{'span': 'AT&T Alien Labs',\n",
       "   'label': 'ORG',\n",
       "   'score': 0.9983267188072205,\n",
       "   'char_start_index': 20,\n",
       "   'char_end_index': 35},\n",
       "  {'span': 'Shikitega',\n",
       "   'label': 'PRODUCT',\n",
       "   'score': 0.9089323282241821,\n",
       "   'char_start_index': 93,\n",
       "   'char_end_index': 102}],\n",
       " [],\n",
       " [{'span': 'Shikitega',\n",
       "   'label': 'PRODUCT',\n",
       "   'score': 0.7931892275810242,\n",
       "   'char_start_index': 0,\n",
       "   'char_end_index': 9}],\n",
       " [{'span': 'Metasploit',\n",
       "   'label': 'PRODUCT',\n",
       "   'score': 0.8551660776138306,\n",
       "   'char_start_index': 61,\n",
       "   'char_end_index': 71},\n",
       "  {'span': 'Mettle',\n",
       "   'label': 'PRODUCT',\n",
       "   'score': 0.8974155783653259,\n",
       "   'char_start_index': 75,\n",
       "   'char_end_index': 81}],\n",
       " [{'span': 'Shikitega',\n",
       "   'label': 'PRODUCT',\n",
       "   'score': 0.859973132610321,\n",
       "   'char_start_index': 0,\n",
       "   'char_end_index': 9}],\n",
       " [],\n",
       " [{'span': 'Metasploit',\n",
       "   'label': 'PRODUCT',\n",
       "   'score': 0.910469114780426,\n",
       "   'char_start_index': 132,\n",
       "   'char_end_index': 142}],\n",
       " [{'span': 'one',\n",
       "   'label': 'CARDINAL',\n",
       "   'score': 0.9145220518112183,\n",
       "   'char_start_index': 72,\n",
       "   'char_end_index': 75},\n",
       "  {'span': 'AT&T Alien Labs',\n",
       "   'label': 'ORG',\n",
       "   'score': 0.9956251978874207,\n",
       "   'char_start_index': 197,\n",
       "   'char_end_index': 212}],\n",
       " [{'span': 'Metasploit',\n",
       "   'label': 'PRODUCT',\n",
       "   'score': 0.9783205986022949,\n",
       "   'char_start_index': 175,\n",
       "   'char_end_index': 185},\n",
       "  {'span': 'Mettle',\n",
       "   'label': 'PRODUCT',\n",
       "   'score': 0.8999954462051392,\n",
       "   'char_start_index': 189,\n",
       "   'char_end_index': 195}],\n",
       " [{'span': 'recent months',\n",
       "   'label': 'DATE',\n",
       "   'score': 0.9937911629676819,\n",
       "   'char_start_index': 87,\n",
       "   'char_end_index': 100},\n",
       "  {'span': 'BPFDoor',\n",
       "   'label': 'PRODUCT',\n",
       "   'score': 0.9173358678817749,\n",
       "   'char_start_index': 112,\n",
       "   'char_end_index': 119},\n",
       "  {'span': 'Symbiote',\n",
       "   'label': 'PRODUCT',\n",
       "   'score': 0.9079686403274536,\n",
       "   'char_start_index': 121,\n",
       "   'char_end_index': 129},\n",
       "  {'span': 'Syslogk',\n",
       "   'label': 'PRODUCT',\n",
       "   'score': 0.9439632892608643,\n",
       "   'char_start_index': 131,\n",
       "   'char_end_index': 138},\n",
       "  {'span': 'OrBit',\n",
       "   'label': 'PRODUCT',\n",
       "   'score': 0.8996113538742065,\n",
       "   'char_start_index': 140,\n",
       "   'char_end_index': 145},\n",
       "  {'span': 'Lightning Framework',\n",
       "   'label': 'PRODUCT',\n",
       "   'score': 0.98127281665802,\n",
       "   'char_start_index': 151,\n",
       "   'char_end_index': 170}],\n",
       " [{'span': 'CVE-2021-4034',\n",
       "   'label': 'LAW',\n",
       "   'score': 0.797631561756134,\n",
       "   'char_start_index': 56,\n",
       "   'char_end_index': 69},\n",
       "  {'span': 'PwnKit',\n",
       "   'label': 'PRODUCT',\n",
       "   'score': 0.6906188130378723,\n",
       "   'char_start_index': 75,\n",
       "   'char_end_index': 81},\n",
       "  {'span': 'CVE-2021-3493',\n",
       "   'label': 'LAW',\n",
       "   'score': 0.6020980477333069,\n",
       "   'char_start_index': 87,\n",
       "   'char_end_index': 100}],\n",
       " [],\n",
       " [],\n",
       " [{'span': 'Shiketega',\n",
       "   'label': 'PRODUCT',\n",
       "   'score': 0.6942405700683594,\n",
       "   'char_start_index': 0,\n",
       "   'char_end_index': 9}],\n",
       " [],\n",
       " [],\n",
       " [{'span': 'securityaffairs',\n",
       "   'label': 'PERSON',\n",
       "   'score': 0.5332580208778381,\n",
       "   'char_start_index': 23,\n",
       "   'char_end_index': 38},\n",
       "  {'span': 'Pierluigi Paganini',\n",
       "   'label': 'PERSON',\n",
       "   'score': 0.9966756105422974,\n",
       "   'char_start_index': 53,\n",
       "   'char_end_index': 71},\n",
       "  {'span': 'SecurityAffairs',\n",
       "   'label': 'ORG',\n",
       "   'score': 0.9145069122314453,\n",
       "   'char_start_index': 73,\n",
       "   'char_end_index': 88},\n",
       "  {'span': 'Log4Shell',\n",
       "   'label': 'ORG',\n",
       "   'score': 0.969048023223877,\n",
       "   'char_start_index': 100,\n",
       "   'char_end_index': 109}]]"
      ]
     },
     "execution_count": 65,
     "metadata": {},
     "output_type": "execute_result"
    }
   ],
   "source": [
    "entities"
   ]
  },
  {
   "cell_type": "code",
   "execution_count": 13,
   "id": "8567c8ee-f3f7-4c3b-974a-aed593069058",
   "metadata": {},
   "outputs": [
    {
     "data": {
      "application/vnd.jupyter.widget-view+json": {
       "model_id": "797c86817a81455382c90a58af83ce96",
       "version_major": 2,
       "version_minor": 0
      },
      "text/plain": [
       "tokenizer_config.json:   0%|          | 0.00/1.35k [00:00<?, ?B/s]"
      ]
     },
     "metadata": {},
     "output_type": "display_data"
    },
    {
     "data": {
      "application/vnd.jupyter.widget-view+json": {
       "model_id": "57165060c5994173a693f42353131eb4",
       "version_major": 2,
       "version_minor": 0
      },
      "text/plain": [
       "vocab.json:   0%|          | 0.00/815k [00:00<?, ?B/s]"
      ]
     },
     "metadata": {},
     "output_type": "display_data"
    },
    {
     "data": {
      "application/vnd.jupyter.widget-view+json": {
       "model_id": "c7e7a95841054148988b80fba0061621",
       "version_major": 2,
       "version_minor": 0
      },
      "text/plain": [
       "merges.txt:   0%|          | 0.00/473k [00:00<?, ?B/s]"
      ]
     },
     "metadata": {},
     "output_type": "display_data"
    },
    {
     "data": {
      "application/vnd.jupyter.widget-view+json": {
       "model_id": "4f5c5c3c5d584b758dfb66422daf7076",
       "version_major": 2,
       "version_minor": 0
      },
      "text/plain": [
       "tokenizer.json:   0%|          | 0.00/2.14M [00:00<?, ?B/s]"
      ]
     },
     "metadata": {},
     "output_type": "display_data"
    },
    {
     "data": {
      "application/vnd.jupyter.widget-view+json": {
       "model_id": "8ca95f57a2d2454e936314cfeb8d0ba5",
       "version_major": 2,
       "version_minor": 0
      },
      "text/plain": [
       "special_tokens_map.json:   0%|          | 0.00/957 [00:00<?, ?B/s]"
      ]
     },
     "metadata": {},
     "output_type": "display_data"
    },
    {
     "data": {
      "application/vnd.jupyter.widget-view+json": {
       "model_id": "ccb4faee5fe346cbbb4b176902b5225b",
       "version_major": 2,
       "version_minor": 0
      },
      "text/plain": [
       "config.json:   0%|          | 0.00/2.29k [00:00<?, ?B/s]"
      ]
     },
     "metadata": {},
     "output_type": "display_data"
    },
    {
     "data": {
      "application/vnd.jupyter.widget-view+json": {
       "model_id": "ee27c183a79d4192aad2bb3faefeac64",
       "version_major": 2,
       "version_minor": 0
      },
      "text/plain": [
       "model.safetensors:   0%|          | 0.00/496M [00:00<?, ?B/s]"
      ]
     },
     "metadata": {},
     "output_type": "display_data"
    }
   ],
   "source": [
    "from transformers import AutoTokenizer, AutoModelForTokenClassification\n",
    "from transformers import pipeline\n",
    "\n",
    "tokenizer = AutoTokenizer.from_pretrained(\"CyberPeace-Institute/SecureBERT-NER\")\n",
    "model = AutoModelForTokenClassification.from_pretrained(\"CyberPeace-Institute/SecureBERT-NER\")\n",
    "\n",
    "nlp = pipeline(\"ner\", model=model, tokenizer=tokenizer)"
   ]
  },
  {
   "cell_type": "code",
   "execution_count": 16,
   "id": "58f04c41-4adc-44af-a86d-20d960292a99",
   "metadata": {},
   "outputs": [
    {
     "name": "stdout",
     "output_type": "stream",
     "text": [
      "{'entity': 'B-SECTEAM', 'score': 0.9150467, 'index': 4, 'word': 'ĠAT', 'start': 20, 'end': 22}\n",
      "{'entity': 'B-SECTEAM', 'score': 0.9164499, 'index': 5, 'word': '&', 'start': 22, 'end': 23}\n",
      "{'entity': 'B-SECTEAM', 'score': 0.9194493, 'index': 6, 'word': 'T', 'start': 23, 'end': 24}\n",
      "{'entity': 'I-SECTEAM', 'score': 0.8964916, 'index': 7, 'word': 'ĠAlien', 'start': 25, 'end': 30}\n",
      "{'entity': 'I-SECTEAM', 'score': 0.888786, 'index': 8, 'word': 'ĠLabs', 'start': 31, 'end': 35}\n",
      "{'entity': 'B-OS', 'score': 0.90799487, 'index': 15, 'word': 'ĠLinux', 'start': 71, 'end': 76}\n",
      "{'entity': 'B-MAL', 'score': 0.46373838, 'index': 19, 'word': 'ĠSh', 'start': 93, 'end': 95}\n",
      "{'entity': 'B-MAL', 'score': 0.52477324, 'index': 20, 'word': 'ik', 'start': 95, 'end': 97}\n",
      "{'entity': 'B-MAL', 'score': 0.5661931, 'index': 21, 'word': 'ite', 'start': 97, 'end': 100}\n",
      "{'entity': 'B-MAL', 'score': 0.570699, 'index': 22, 'word': 'ga', 'start': 100, 'end': 102}\n",
      "{'entity': 'B-TOOL', 'score': 0.5195549, 'index': 28, 'word': 'ĠIoT', 'start': 131, 'end': 134}\n",
      "{'entity': 'B-FILE', 'score': 0.74783635, 'index': 32, 'word': 'Ġmalware', 'start': 148, 'end': 155}\n",
      "{'entity': 'B-APT', 'score': 0.7616375, 'index': 43, 'word': 'Ġactors', 'start': 209, 'end': 215}\n",
      "{'entity': 'B-IDTY', 'score': 0.53121495, 'index': 62, 'word': 'Ġcryptocurrency', 'start': 314, 'end': 328}\n",
      "{'entity': 'B-FILE', 'score': 0.89876205, 'index': 65, 'word': 'ĠSh', 'start': 337, 'end': 339}\n",
      "{'entity': 'B-FILE', 'score': 0.91506505, 'index': 66, 'word': 'ik', 'start': 339, 'end': 341}\n",
      "{'entity': 'B-FILE', 'score': 0.9064715, 'index': 67, 'word': 'ite', 'start': 341, 'end': 344}\n",
      "{'entity': 'B-FILE', 'score': 0.9000217, 'index': 68, 'word': 'ga', 'start': 344, 'end': 346}\n",
      "{'entity': 'B-TOOL', 'score': 0.9158236, 'index': 79, 'word': 'ĠC', 'start': 394, 'end': 395}\n",
      "{'entity': 'B-TOOL', 'score': 0.9167855, 'index': 80, 'word': '2', 'start': 395, 'end': 396}\n",
      "{'entity': 'B-FILE', 'score': 0.85414904, 'index': 100, 'word': 'Ġmalware', 'start': 502, 'end': 509}\n",
      "{'entity': 'B-APT', 'score': 0.91405976, 'index': 120, 'word': 'ĠSh', 'start': 599, 'end': 601}\n",
      "{'entity': 'B-APT', 'score': 0.915609, 'index': 121, 'word': 'ik', 'start': 601, 'end': 603}\n",
      "{'entity': 'B-APT', 'score': 0.9207422, 'index': 122, 'word': 'ite', 'start': 603, 'end': 606}\n",
      "{'entity': 'B-APT', 'score': 0.9177606, 'index': 123, 'word': 'ga', 'start': 606, 'end': 608}\n",
      "{'entity': 'B-VULNAME', 'score': 0.47295222, 'index': 125, 'word': 'Ġvulnerabilities', 'start': 618, 'end': 633}\n",
      "{'entity': 'B-MAL', 'score': 0.7398678, 'index': 140, 'word': 'Ġpolymorphic', 'start': 722, 'end': 733}\n",
      "{'entity': 'I-MAL', 'score': 0.46274805, 'index': 141, 'word': 'Ġencoder', 'start': 734, 'end': 741}\n",
      "{'entity': 'B-TOOL', 'score': 0.51743114, 'index': 161, 'word': 'ĠELF', 'start': 829, 'end': 832}\n",
      "{'entity': 'B-FILE', 'score': 0.6154254, 'index': 184, 'word': 'Ġmalware', 'start': 919, 'end': 926}\n",
      "{'entity': 'B-APT', 'score': 0.55505425, 'index': 213, 'word': 'ĠMetasploit', 'start': 1046, 'end': 1056}\n",
      "{'entity': 'B-FILE', 'score': 0.63925946, 'index': 220, 'word': 'Ġmalware', 'start': 1081, 'end': 1088}\n",
      "{'entity': 'B-SECTEAM', 'score': 0.90977424, 'index': 252, 'word': 'ĠAT', 'start': 1255, 'end': 1257}\n",
      "{'entity': 'B-SECTEAM', 'score': 0.91467124, 'index': 253, 'word': '&', 'start': 1257, 'end': 1258}\n",
      "{'entity': 'B-SECTEAM', 'score': 0.91748124, 'index': 254, 'word': 'T', 'start': 1258, 'end': 1259}\n",
      "{'entity': 'I-SECTEAM', 'score': 0.88897836, 'index': 255, 'word': 'ĠAlien', 'start': 1260, 'end': 1265}\n",
      "{'entity': 'I-SECTEAM', 'score': 0.87937003, 'index': 256, 'word': 'ĠLabs', 'start': 1266, 'end': 1270}\n",
      "{'entity': 'B-OS', 'score': 0.937782, 'index': 322, 'word': 'ĠLinux', 'start': 1592, 'end': 1597}\n",
      "{'entity': 'B-MAL', 'score': 0.9161984, 'index': 336, 'word': 'ĠBP', 'start': 1666, 'end': 1668}\n",
      "{'entity': 'B-MAL', 'score': 0.91462624, 'index': 337, 'word': 'F', 'start': 1668, 'end': 1669}\n",
      "{'entity': 'B-MAL', 'score': 0.9132499, 'index': 338, 'word': 'Door', 'start': 1669, 'end': 1673}\n",
      "{'entity': 'B-MAL', 'score': 0.9147912, 'index': 340, 'word': 'ĠSym', 'start': 1675, 'end': 1678}\n",
      "{'entity': 'B-MAL', 'score': 0.9153493, 'index': 341, 'word': 'bi', 'start': 1678, 'end': 1680}\n",
      "{'entity': 'B-MAL', 'score': 0.91540515, 'index': 342, 'word': 'ote', 'start': 1680, 'end': 1683}\n",
      "{'entity': 'B-MAL', 'score': 0.91717535, 'index': 344, 'word': 'ĠSyslog', 'start': 1685, 'end': 1691}\n",
      "{'entity': 'B-MAL', 'score': 0.9160665, 'index': 345, 'word': 'k', 'start': 1691, 'end': 1692}\n",
      "{'entity': 'B-MAL', 'score': 0.9156393, 'index': 347, 'word': 'ĠOr', 'start': 1694, 'end': 1696}\n",
      "{'entity': 'B-MAL', 'score': 0.91945344, 'index': 348, 'word': 'Bit', 'start': 1696, 'end': 1699}\n",
      "{'entity': 'B-MAL', 'score': 0.9194317, 'index': 351, 'word': 'ĠLightning', 'start': 1705, 'end': 1714}\n",
      "{'entity': 'I-MAL', 'score': 0.79359037, 'index': 352, 'word': 'ĠFramework', 'start': 1715, 'end': 1724}\n",
      "{'entity': 'B-FILE', 'score': 0.3910903, 'index': 355, 'word': 'Ġmalware', 'start': 1730, 'end': 1737}\n",
      "{'entity': 'B-VULID', 'score': 0.9232544, 'index': 361, 'word': 'ĠCVE', 'start': 1782, 'end': 1785}\n",
      "{'entity': 'B-VULID', 'score': 0.9224314, 'index': 362, 'word': '-', 'start': 1785, 'end': 1786}\n",
      "{'entity': 'B-VULID', 'score': 0.9242386, 'index': 363, 'word': '2021', 'start': 1786, 'end': 1790}\n",
      "{'entity': 'B-VULID', 'score': 0.9231352, 'index': 364, 'word': '-', 'start': 1790, 'end': 1791}\n",
      "{'entity': 'B-VULID', 'score': 0.92705977, 'index': 365, 'word': '40', 'start': 1791, 'end': 1793}\n",
      "{'entity': 'B-VULID', 'score': 0.92473704, 'index': 366, 'word': '34', 'start': 1793, 'end': 1795}\n",
      "{'entity': 'B-VULID', 'score': 0.92250925, 'index': 373, 'word': 'ĠCVE', 'start': 1813, 'end': 1816}\n",
      "{'entity': 'B-VULID', 'score': 0.9222298, 'index': 374, 'word': '-', 'start': 1816, 'end': 1817}\n",
      "{'entity': 'B-VULID', 'score': 0.92437875, 'index': 375, 'word': '2021', 'start': 1817, 'end': 1821}\n",
      "{'entity': 'B-VULID', 'score': 0.9219673, 'index': 376, 'word': '-', 'start': 1821, 'end': 1822}\n",
      "{'entity': 'B-VULID', 'score': 0.9275542, 'index': 377, 'word': '34', 'start': 1822, 'end': 1824}\n",
      "{'entity': 'B-VULID', 'score': 0.92638, 'index': 378, 'word': '93', 'start': 1824, 'end': 1826}\n",
      "{'entity': 'B-VULNAME', 'score': 0.9303265, 'index': 384, 'word': 'Ġexploit', 'start': 1854, 'end': 1861}\n",
      "{'entity': 'B-FILE', 'score': 0.81201965, 'index': 428, 'word': 'ĠSh', 'start': 2088, 'end': 2090}\n",
      "{'entity': 'B-FILE', 'score': 0.85244364, 'index': 429, 'word': 'ik', 'start': 2090, 'end': 2092}\n",
      "{'entity': 'B-FILE', 'score': 0.8526824, 'index': 430, 'word': 'ete', 'start': 2092, 'end': 2095}\n",
      "{'entity': 'B-FILE', 'score': 0.8396069, 'index': 431, 'word': 'ga', 'start': 2095, 'end': 2097}\n",
      "{'entity': 'B-APT', 'score': 0.29713994, 'index': 467, 'word': 'Ġmalware', 'start': 2285, 'end': 2292}\n",
      "{'entity': 'B-SECTEAM', 'score': 0.6508299, 'index': 495, 'word': 'securityaffairs', 'start': 2421, 'end': 2436}\n"
     ]
    }
   ],
   "source": [
    "ner_results = nlp(articles[1].content)\n",
    "\n",
    "for result in ner_results:\n",
    "    print(result)"
   ]
  },
  {
   "cell_type": "code",
   "execution_count": 15,
   "id": "816bd64c-6b7f-4512-b1d4-87437229a6eb",
   "metadata": {},
   "outputs": [
    {
     "data": {
      "text/plain": [
       "'Every business is under the threat of a data breach. Identity Theft Resource Centre (ITRC) has published a report which shows 17% increase in data breaches as of September 2021. Every sector has its own set of threats. As per records, the manufacturing & utility sector had 48 million victims in 2021, which was the highest. Another study showed that nearly 100 million Android users’ data were leaked due to several misconfigurations.This shows that application security has become a significant problem for businesses. This article provides you with the Top 10 most critical application security risks you need to concentrate on to avoid data breaches. 1.    Broken Access ControlRecent research revealed that, in 2021, nearly 94% of the applications were vulnerable to Broken Access Control. Access Control is enforced in every organization to prevent unauthorized access to sensitive information. However, when the policies are misconfigured, it might lead to many security issues. The most common access control vulnerabilities are• Privilege Escalation• Parameter Tampering• Insecure Direct Object Reference (IDOR)• CORS MisconfigurationTips to Prevent Broken Access Control• Minimize Cross-Origin Resource Sharing• Make sure the backup files from the root directory are deleted• Disable Web Server Directory Listing• Rate Limit API requests• Enforce Stateful Session2.    Cryptographic Failures  Cryptography has been in practice ever since cyber threats have emerged. However, still insecure data encryption exposes sensitive data like health records, personal information, credit card numbers, and other business secrets. Encryption and Decryption are based on the cryptographic keys used. If the keys are weak and vulnerable, data loss is inevitable. It is necessary to check whether the same key is used twice, weak keys are generated, or any keys are reused. For example, when an application does not use proper database encryption and decryption, a security breach might leak the entire database.Tips to Prevent Cryptographic Failures• Never store sensitive data unless it’s necessary• Ensure to encrypt all sensitive data• Disable the cache of sensitive data• Enforce mandatory usage of authenticated encryption• Enable cryptographic randomness3.     Injection Injection vulnerabilities are one the most common ways which lead to serious data breaches. As of 2019, SQL injection attacks were the highest among all the critical vulnerabilities. Nearly 94% of the applications were tested for injection-based vulnerabilities in which nearly 19% of the applications were found to be vulnerable.An injection vulnerability refers to the injection of unvalidated input into the server, which will execute malicious commands. Some of the common types of Injection vulnerabilities are• SQL injection• Command Injection• CRLF injection• LDAP injectionsTips to Prevent Injection attack• Use safe APIs• Sanitize user-supplied inputs• Use LIMIT controls in SQL• Use Character-escaping functions• Use best-in-class WAF  • Use IDS and Positive Server-side validation4.     Insecure DesignAs of 2021, architectural and design flaws have become a major problem for businesses. Lack of business risk profiling is the main factor for insecure design. Insecure design and insecure implementation are two different things but are directly proportional. A secure design constantly evaluates all the codes and threats and protects from attack methods.Tips to Prevent Insecure Design• Regular plausibility checks• Make a Secure Software Development Lifecycle• Document every test-case• Note down all the misuse cases on every stage of the application5.     Security MisconfigurationHuman errors are the most prevalent form of error when it comes to cyber security. Nearly 90% of the servers were tested for security misconfiguration. A range of 280,000 servers was vulnerable due to poor security configuration. Significant human errors include:Having default settingsNo limitation on accessing cloud storageHTTP header misconfigurationError messages that led to sensitive data exposureTips to Prevent Security Misconfiguration• Regularly monitor cloud resources, applications, and servers• Use segmented application architecture• Remove unused features and services6.     Vulnerable and Outdated ComponentsBusinesses often depend on open-source libraries and frameworks for their application. Hence, any vulnerability in an open-source library creates a great security impact. Most of the data breaches reported were due to vulnerable and outdated components. This security issue arises due to:• Lack of knowledge in the components versions used• Out of date or vulnerable software in the application server• Not testing the capabilities of patched or upgraded libraries• Not using secure componentsTips to Prevent Vulnerable & Outdated Components• Remove unnecessary features or files• Be up to date on the latest security vulnerabilities• Regularly scan all the vulnerable components• Frequently patch application vulnerabilities7.    Identification and Authentication FailuresAuthentication of a specific user is crucial for any application. Many cyberattacks attacks happen due to poor identification and authentication. Authentication related issues arise when an application:• Allows automated tasks like credential surfing• Doesn’t restrict automated tasks• Allow weak passwords• Has weakly hashed data stores• Shows Session Token in the URL• Doesn’t enforce MFATips to Prevent Authentication Failures• Enforce MFA and make it mandatory• Create Strong Password Policies• Enable time-limited sessions• Disable Session IDs in URL8. Software and Integrity FailuresSoftware and integrity failure arises when the code and infrastructure fail to prevent integrity violations. For example, an integrity failure may arise when an application is built upon plugins, modules, or libraries from a source that is not genuine. Many applications are automatically updated without sufficient integrity verification. Cybercriminals can exploit these updates by uploading malicious payloads.Tips to Prevent Software & Integrity Failures• Ensure a review procedure for code and configuration modifications• Host an internal approved repository• Segregate and configure your CI/CD pipeline securely• Restrict unencrypted or unsigned data from untrustworthy clients 9. Insufficient Logging and MonitoringProper logging and monitoring is the most important factor to consider when securing an application. Many of the data breaches were due to insufficient monitoring of traffic. Without monitoring, breaches are hard to detect. Some of the common issues that can be detected through logging and monitoring involve:• Events of multiple login attempts• Unclear log messages• Locally stored logs• Real-time attacks that are not alertedTips to Prevent Insufficient Logging & Monitoring• Server-side inputs, access control, logins attempts must be logged• High-value transactions must be monitored• Use open-source application protection frameworks • Effective monitoring and quick response over suspicious activities10. Server-Side Request Forgery (SSRF) Requesting an unauthorized resource by redirecting a request from a trusted application is called Server-Side Request Forgery (SSRF). Attackers use crafted requests to attack the application. Since cloud services are rising, fetching a remote resource through a request from an application has become inevitable. Hence, SSRF is also increasing.Tips to Prevent Server-Side Request Forgery • Enforce positive allow list• Prevent raw response from clients• HTTP redirections must be disabled• Use network encryption for independent systemsApplication security attacks are becoming more common because they are easier to carry out and can be very profitable for attackers. Businesses need to invest in better security technologies and procedures to keep their data and systems safe.Indusface provides the best service for web application security, firewalls, SSL certificate, and many other services that can help to keep your business safe. It provides an affordable risk-based approach to application security, fully managed web application scanning, and firewall with no false positives. '"
      ]
     },
     "execution_count": 15,
     "metadata": {},
     "output_type": "execute_result"
    }
   ],
   "source": [
    "articles[0].content"
   ]
  },
  {
   "cell_type": "code",
   "execution_count": null,
   "id": "b06bad7a-0bb7-401d-b888-cba094c1b13b",
   "metadata": {},
   "outputs": [],
   "source": []
  }
 ],
 "metadata": {
  "kernelspec": {
   "display_name": "ml-venv",
   "language": "python",
   "name": "ml-venv"
  },
  "language_info": {
   "codemirror_mode": {
    "name": "ipython",
    "version": 3
   },
   "file_extension": ".py",
   "mimetype": "text/x-python",
   "name": "python",
   "nbconvert_exporter": "python",
   "pygments_lexer": "ipython3",
   "version": "3.11.6"
  }
 },
 "nbformat": 4,
 "nbformat_minor": 5
}
