{
 "cells": [
  {
   "cell_type": "code",
   "execution_count": 1,
   "id": "c7dcbac7-51a6-41ff-94a5-c368ebb34546",
   "metadata": {},
   "outputs": [],
   "source": [
    "from typing import cast\n",
    "import numpy as np\n",
    "from nptyping import Float64, Int64, NDArray, Float32, Shape\n",
    "import json\n",
    "\n",
    "from sklearn.feature_extraction.text import TfidfVectorizer\n",
    "from scipy.spatial import distance\n",
    "\n",
    "from sentence_transformers import SentenceTransformer\n",
    "from umap import UMAP\n",
    "from hdbscan import HDBSCAN\n",
    "from sklearn.feature_extraction.text import CountVectorizer, TfidfVectorizer\n",
    "\n",
    "from pydantic import BaseModel"
   ]
  },
  {
   "cell_type": "code",
   "execution_count": 2,
   "id": "0bd1462c-728c-4f91-89af-ebe13b857ec6",
   "metadata": {},
   "outputs": [],
   "source": [
    "from modules.elastic import ArticleSearchQuery\n",
    "from modules.objects import FullArticle\n",
    "from modules.config import BaseConfig\n",
    "\n",
    "from dotenv import load_dotenv\n",
    "\n",
    "load_dotenv()\n",
    "\n",
    "config_options = BaseConfig()"
   ]
  },
  {
   "cell_type": "code",
   "execution_count": 3,
   "id": "9a998170-150d-4233-bfc1-f4c613c0fc13",
   "metadata": {},
   "outputs": [
    {
     "data": {
      "text/plain": [
       "33754"
      ]
     },
     "execution_count": 3,
     "metadata": {},
     "output_type": "execute_result"
    }
   ],
   "source": [
    "articles = config_options.es_article_client.query_documents(ArticleSearchQuery(limit=0), True)[0]\n",
    "len(articles)"
   ]
  },
  {
   "cell_type": "code",
   "execution_count": 4,
   "id": "e241be22-4685-46a0-a885-99f99dab88d3",
   "metadata": {},
   "outputs": [
    {
     "data": {
      "application/vnd.jupyter.widget-view+json": {
       "model_id": "d1b3b99e1c4c4d8bb2b1f3bb98bdc705",
       "version_major": 2,
       "version_minor": 0
      },
      "text/plain": [
       "Batches:   0%|          | 0/1055 [00:00<?, ?it/s]"
      ]
     },
     "metadata": {},
     "output_type": "display_data"
    }
   ],
   "source": [
    "embedding_model = SentenceTransformer(\"all-MiniLM-L6-v2\")\n",
    "embeddings = embedding_model.encode([article.content for article in articles], show_progress_bar=True, convert_to_numpy=True)"
   ]
  },
  {
   "cell_type": "code",
   "execution_count": null,
   "id": "fbd64b63-f43e-49c4-80cd-ed200a81383a",
   "metadata": {},
   "outputs": [],
   "source": [
    "tfidf_vectorizer = TfidfVectorizer(min_df=5, stop_words='english')\n",
    "tfidf_embeddings = tfidf_vectorizer.fit_transform([article.content for article in articles])"
   ]
  },
  {
   "cell_type": "code",
   "execution_count": null,
   "id": "e8329de2-4355-46de-a70b-f3ef9414f46b",
   "metadata": {},
   "outputs": [],
   "source": [
    "cluster_embeddings = UMAP(min_dist=0, n_neighbors=7, n_components=20, metric=\"cosine\").fit_transform(embeddings)"
   ]
  },
  {
   "cell_type": "code",
   "execution_count": null,
   "id": "3eb7b556-b5d3-4e92-b4f3-525038c782fe",
   "metadata": {},
   "outputs": [],
   "source": [
    "reduced_embeddings = UMAP(min_dist=0, n_neighbors=7, n_components=2, metric=\"cosine\").fit_transform(embeddings)"
   ]
  },
  {
   "cell_type": "code",
   "execution_count": null,
   "id": "323f988e-7cfe-4322-96e1-e3ed242ce046",
   "metadata": {},
   "outputs": [],
   "source": [
    "labels = HDBSCAN(\n",
    "    min_cluster_size=5,\n",
    "    min_samples=5,\n",
    "    cluster_selection_epsilon=0.2,\n",
    "    metric=\"euclidean\",\n",
    "    cluster_selection_method=\"eom\",\n",
    "    prediction_data=True,\n",
    ").fit_predict(cluster_embeddings)"
   ]
  },
  {
   "cell_type": "code",
   "execution_count": null,
   "id": "8141e0e9-a6e8-4bd2-b6d9-0c78d9c9bbca",
   "metadata": {},
   "outputs": [],
   "source": [
    "max(labels)"
   ]
  },
  {
   "cell_type": "code",
   "execution_count": null,
   "id": "1eb967cd-0ef4-4469-92bf-5b597b2e7e38",
   "metadata": {},
   "outputs": [],
   "source": [
    "for i, article in enumerate(articles):\n",
    "    article.ml[\"coordinates\"] = (float(reduced_embeddings[i][0]), float(reduced_embeddings[i][1]))\n",
    "    article.ml[\"cluster\"] = int(labels[i])\n",
    "    \n",
    "with open(\"./articles.json\", \"w\") as f:\n",
    "    json.dump([article.model_dump(mode=\"json\") for article in articles], f)"
   ]
  },
  {
   "cell_type": "code",
   "execution_count": null,
   "id": "5e49faa7-b9cd-4388-81a5-a23d440c7a2c",
   "metadata": {},
   "outputs": [],
   "source": [
    "umap = UMAP(min_dist=0, n_neighbors=10, n_components=3, metric=\"cosine\").fit(embeddings)"
   ]
  },
  {
   "cell_type": "code",
   "execution_count": null,
   "id": "06988da2-2c89-49f5-b43b-24bf524db804",
   "metadata": {},
   "outputs": [],
   "source": [
    "contents = [article.content for article in articles]\n",
    "umap_model = UMAP(\n",
    "    n_neighbors=15, n_components=15, min_dist=0.0, metric=\"cosine\", random_state=42\n",
    ")\n",
    "hdbscan_model = HDBSCAN(\n",
    "    min_cluster_size=10,\n",
    "    metric=\"euclidean\",\n",
    "    cluster_selection_method=\"eom\",\n",
    "    prediction_data=True,\n",
    ")\n",
    "vectorizer_model = CountVectorizer(\n",
    "    stop_words=\"english\", min_df=2, ngram_range=(1, 2)\n",
    ")\n",
    "\n",
    "\n",
    "topic_model = BERTopic(\n",
    "    # Pipeline models\n",
    "    embedding_model=embedding_model,\n",
    "    umap_model=umap_model,\n",
    "    hdbscan_model=hdbscan_model,\n",
    "    vectorizer_model=vectorizer_model,\n",
    "    # Hyperparameters\n",
    "    top_n_words=10,\n",
    "    verbose=True,\n",
    ")\n",
    "                                                                  \n",
    "topic_numbers, _ = topic_model.fit_transform(contents, embeddings)"
   ]
  },
  {
   "cell_type": "code",
   "execution_count": null,
   "id": "94c69ceb-bfee-4d27-b1d1-89f84005c884",
   "metadata": {},
   "outputs": [],
   "source": [
    "reduced_embeddings = UMAP(n_neighbors=10, n_components=2, min_dist=0.0, metric='cosine').fit_transform(embeddings)\n",
    "topic_model.visualize_documents([article.title for article in articles], reduced_embeddings=reduced_embeddings, hide_annotations=True)"
   ]
  },
  {
   "cell_type": "code",
   "execution_count": null,
   "id": "a6e428d9-62d3-4768-ac25-d8a1a3b92dff",
   "metadata": {},
   "outputs": [],
   "source": [
    "reduced_embeddings = UMAP(n_neighbors=10, n_components=2, min_dist=0.0, metric='cosine').fit_transform(embeddings)\n",
    "topic_model.visualize_documents([article.title for article in articles], reduced_embeddings=reduced_embeddings, hide_annotations=True)"
   ]
  },
  {
   "cell_type": "code",
   "execution_count": null,
   "id": "6f7e3260-e0e2-4b98-8594-32b4056cb997",
   "metadata": {},
   "outputs": [],
   "source": []
  }
 ],
 "metadata": {
  "kernelspec": {
   "display_name": "ml-venv",
   "language": "python",
   "name": "ml-venv"
  },
  "language_info": {
   "codemirror_mode": {
    "name": "ipython",
    "version": 3
   },
   "file_extension": ".py",
   "mimetype": "text/x-python",
   "name": "python",
   "nbconvert_exporter": "python",
   "pygments_lexer": "ipython3",
   "version": "3.11.6"
  }
 },
 "nbformat": 4,
 "nbformat_minor": 5
}
